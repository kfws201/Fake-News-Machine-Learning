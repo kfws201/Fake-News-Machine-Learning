{
 "cells": [
  {
   "cell_type": "markdown",
   "id": "bebeb179",
   "metadata": {},
   "source": [
    "# Fake News"
   ]
  },
  {
   "cell_type": "markdown",
   "id": "c4895296",
   "metadata": {},
   "source": [
    "### Data Preparation"
   ]
  },
  {
   "cell_type": "code",
   "execution_count": 1,
   "id": "94dfb26c",
   "metadata": {},
   "outputs": [],
   "source": [
    "## Import required libraries\n",
    "import pandas as pd\n",
    "import string\n",
    "from nltk.corpus import stopwords\n",
    "from sklearn.feature_extraction.text import CountVectorizer\n",
    "import numpy as np\n",
    "from sklearn.naive_bayes import MultinomialNB\n",
    "from sklearn.model_selection import train_test_split\n",
    "from sklearn.metrics import precision_score, recall_score, f1_score, accuracy_score\n",
    "from sklearn.model_selection import cross_val_score\n",
    "from sklearn.feature_extraction.text import TfidfVectorizer\n",
    "from sklearn.linear_model import LogisticRegression\n",
    "from sklearn.model_selection import GridSearchCV\n",
    "from hyperopt import fmin, tpe, hp, STATUS_OK, space_eval\n",
    "from hyperopt.pyll.base import scope\n",
    "from sklearn.metrics import confusion_matrix\n",
    "import seaborn as sns\n",
    "import matplotlib.pyplot as plt\n",
    "import pickle"
   ]
  },
  {
   "cell_type": "code",
   "execution_count": 2,
   "id": "3294daa6",
   "metadata": {},
   "outputs": [
    {
     "name": "stdout",
     "output_type": "stream",
     "text": [
      "(6335, 4)\n"
     ]
    },
    {
     "data": {
      "text/html": [
       "<div>\n",
       "<style scoped>\n",
       "    .dataframe tbody tr th:only-of-type {\n",
       "        vertical-align: middle;\n",
       "    }\n",
       "\n",
       "    .dataframe tbody tr th {\n",
       "        vertical-align: top;\n",
       "    }\n",
       "\n",
       "    .dataframe thead th {\n",
       "        text-align: right;\n",
       "    }\n",
       "</style>\n",
       "<table border=\"1\" class=\"dataframe\">\n",
       "  <thead>\n",
       "    <tr style=\"text-align: right;\">\n",
       "      <th></th>\n",
       "      <th>Unnamed: 0</th>\n",
       "      <th>title</th>\n",
       "      <th>text</th>\n",
       "      <th>label</th>\n",
       "    </tr>\n",
       "  </thead>\n",
       "  <tbody>\n",
       "    <tr>\n",
       "      <th>0</th>\n",
       "      <td>8476</td>\n",
       "      <td>You Can Smell Hillary’s Fear</td>\n",
       "      <td>Daniel Greenfield, a Shillman Journalism Fello...</td>\n",
       "      <td>FAKE</td>\n",
       "    </tr>\n",
       "    <tr>\n",
       "      <th>1</th>\n",
       "      <td>10294</td>\n",
       "      <td>Watch The Exact Moment Paul Ryan Committed Pol...</td>\n",
       "      <td>Google Pinterest Digg Linkedin Reddit Stumbleu...</td>\n",
       "      <td>FAKE</td>\n",
       "    </tr>\n",
       "    <tr>\n",
       "      <th>2</th>\n",
       "      <td>3608</td>\n",
       "      <td>Kerry to go to Paris in gesture of sympathy</td>\n",
       "      <td>U.S. Secretary of State John F. Kerry said Mon...</td>\n",
       "      <td>REAL</td>\n",
       "    </tr>\n",
       "    <tr>\n",
       "      <th>3</th>\n",
       "      <td>10142</td>\n",
       "      <td>Bernie supporters on Twitter erupt in anger ag...</td>\n",
       "      <td>— Kaydee King (@KaydeeKing) November 9, 2016 T...</td>\n",
       "      <td>FAKE</td>\n",
       "    </tr>\n",
       "    <tr>\n",
       "      <th>4</th>\n",
       "      <td>875</td>\n",
       "      <td>The Battle of New York: Why This Primary Matters</td>\n",
       "      <td>It's primary day in New York and front-runners...</td>\n",
       "      <td>REAL</td>\n",
       "    </tr>\n",
       "  </tbody>\n",
       "</table>\n",
       "</div>"
      ],
      "text/plain": [
       "   Unnamed: 0                                              title  \\\n",
       "0        8476                       You Can Smell Hillary’s Fear   \n",
       "1       10294  Watch The Exact Moment Paul Ryan Committed Pol...   \n",
       "2        3608        Kerry to go to Paris in gesture of sympathy   \n",
       "3       10142  Bernie supporters on Twitter erupt in anger ag...   \n",
       "4         875   The Battle of New York: Why This Primary Matters   \n",
       "\n",
       "                                                text label  \n",
       "0  Daniel Greenfield, a Shillman Journalism Fello...  FAKE  \n",
       "1  Google Pinterest Digg Linkedin Reddit Stumbleu...  FAKE  \n",
       "2  U.S. Secretary of State John F. Kerry said Mon...  REAL  \n",
       "3  — Kaydee King (@KaydeeKing) November 9, 2016 T...  FAKE  \n",
       "4  It's primary day in New York and front-runners...  REAL  "
      ]
     },
     "execution_count": 2,
     "metadata": {},
     "output_type": "execute_result"
    }
   ],
   "source": [
    "## Import Data\n",
    "df = pd.read_csv('news.csv')\n",
    "print(df.shape)\n",
    "df.head()"
   ]
  },
  {
   "cell_type": "code",
   "execution_count": 3,
   "id": "5f39e330",
   "metadata": {},
   "outputs": [
    {
     "data": {
      "text/html": [
       "<div>\n",
       "<style scoped>\n",
       "    .dataframe tbody tr th:only-of-type {\n",
       "        vertical-align: middle;\n",
       "    }\n",
       "\n",
       "    .dataframe tbody tr th {\n",
       "        vertical-align: top;\n",
       "    }\n",
       "\n",
       "    .dataframe thead th {\n",
       "        text-align: right;\n",
       "    }\n",
       "</style>\n",
       "<table border=\"1\" class=\"dataframe\">\n",
       "  <thead>\n",
       "    <tr style=\"text-align: right;\">\n",
       "      <th></th>\n",
       "      <th>id</th>\n",
       "      <th>title</th>\n",
       "      <th>text</th>\n",
       "      <th>label</th>\n",
       "    </tr>\n",
       "  </thead>\n",
       "  <tbody>\n",
       "    <tr>\n",
       "      <th>0</th>\n",
       "      <td>8476</td>\n",
       "      <td>You Can Smell Hillary’s Fear</td>\n",
       "      <td>Daniel Greenfield, a Shillman Journalism Fello...</td>\n",
       "      <td>FAKE</td>\n",
       "    </tr>\n",
       "    <tr>\n",
       "      <th>1</th>\n",
       "      <td>10294</td>\n",
       "      <td>Watch The Exact Moment Paul Ryan Committed Pol...</td>\n",
       "      <td>Google Pinterest Digg Linkedin Reddit Stumbleu...</td>\n",
       "      <td>FAKE</td>\n",
       "    </tr>\n",
       "    <tr>\n",
       "      <th>2</th>\n",
       "      <td>3608</td>\n",
       "      <td>Kerry to go to Paris in gesture of sympathy</td>\n",
       "      <td>U.S. Secretary of State John F. Kerry said Mon...</td>\n",
       "      <td>REAL</td>\n",
       "    </tr>\n",
       "    <tr>\n",
       "      <th>3</th>\n",
       "      <td>10142</td>\n",
       "      <td>Bernie supporters on Twitter erupt in anger ag...</td>\n",
       "      <td>— Kaydee King (@KaydeeKing) November 9, 2016 T...</td>\n",
       "      <td>FAKE</td>\n",
       "    </tr>\n",
       "    <tr>\n",
       "      <th>4</th>\n",
       "      <td>875</td>\n",
       "      <td>The Battle of New York: Why This Primary Matters</td>\n",
       "      <td>It's primary day in New York and front-runners...</td>\n",
       "      <td>REAL</td>\n",
       "    </tr>\n",
       "  </tbody>\n",
       "</table>\n",
       "</div>"
      ],
      "text/plain": [
       "      id                                              title  \\\n",
       "0   8476                       You Can Smell Hillary’s Fear   \n",
       "1  10294  Watch The Exact Moment Paul Ryan Committed Pol...   \n",
       "2   3608        Kerry to go to Paris in gesture of sympathy   \n",
       "3  10142  Bernie supporters on Twitter erupt in anger ag...   \n",
       "4    875   The Battle of New York: Why This Primary Matters   \n",
       "\n",
       "                                                text label  \n",
       "0  Daniel Greenfield, a Shillman Journalism Fello...  FAKE  \n",
       "1  Google Pinterest Digg Linkedin Reddit Stumbleu...  FAKE  \n",
       "2  U.S. Secretary of State John F. Kerry said Mon...  REAL  \n",
       "3  — Kaydee King (@KaydeeKing) November 9, 2016 T...  FAKE  \n",
       "4  It's primary day in New York and front-runners...  REAL  "
      ]
     },
     "execution_count": 3,
     "metadata": {},
     "output_type": "execute_result"
    }
   ],
   "source": [
    "## Renaming unnamed column\n",
    "df = df.rename(columns={'Unnamed: 0': 'id'})\n",
    "df.head()"
   ]
  },
  {
   "cell_type": "code",
   "execution_count": 4,
   "id": "28bed5a8",
   "metadata": {},
   "outputs": [
    {
     "data": {
      "text/html": [
       "<div>\n",
       "<style scoped>\n",
       "    .dataframe tbody tr th:only-of-type {\n",
       "        vertical-align: middle;\n",
       "    }\n",
       "\n",
       "    .dataframe tbody tr th {\n",
       "        vertical-align: top;\n",
       "    }\n",
       "\n",
       "    .dataframe thead th {\n",
       "        text-align: right;\n",
       "    }\n",
       "</style>\n",
       "<table border=\"1\" class=\"dataframe\">\n",
       "  <thead>\n",
       "    <tr style=\"text-align: right;\">\n",
       "      <th></th>\n",
       "      <th>id</th>\n",
       "      <th>title</th>\n",
       "      <th>text</th>\n",
       "      <th>label</th>\n",
       "    </tr>\n",
       "  </thead>\n",
       "  <tbody>\n",
       "    <tr>\n",
       "      <th>0</th>\n",
       "      <td>8476</td>\n",
       "      <td>You Can Smell Hillary’s Fear</td>\n",
       "      <td>Daniel Greenfield, a Shillman Journalism Fello...</td>\n",
       "      <td>1</td>\n",
       "    </tr>\n",
       "    <tr>\n",
       "      <th>1</th>\n",
       "      <td>10294</td>\n",
       "      <td>Watch The Exact Moment Paul Ryan Committed Pol...</td>\n",
       "      <td>Google Pinterest Digg Linkedin Reddit Stumbleu...</td>\n",
       "      <td>1</td>\n",
       "    </tr>\n",
       "    <tr>\n",
       "      <th>2</th>\n",
       "      <td>3608</td>\n",
       "      <td>Kerry to go to Paris in gesture of sympathy</td>\n",
       "      <td>U.S. Secretary of State John F. Kerry said Mon...</td>\n",
       "      <td>0</td>\n",
       "    </tr>\n",
       "    <tr>\n",
       "      <th>3</th>\n",
       "      <td>10142</td>\n",
       "      <td>Bernie supporters on Twitter erupt in anger ag...</td>\n",
       "      <td>— Kaydee King (@KaydeeKing) November 9, 2016 T...</td>\n",
       "      <td>1</td>\n",
       "    </tr>\n",
       "    <tr>\n",
       "      <th>4</th>\n",
       "      <td>875</td>\n",
       "      <td>The Battle of New York: Why This Primary Matters</td>\n",
       "      <td>It's primary day in New York and front-runners...</td>\n",
       "      <td>0</td>\n",
       "    </tr>\n",
       "  </tbody>\n",
       "</table>\n",
       "</div>"
      ],
      "text/plain": [
       "      id                                              title  \\\n",
       "0   8476                       You Can Smell Hillary’s Fear   \n",
       "1  10294  Watch The Exact Moment Paul Ryan Committed Pol...   \n",
       "2   3608        Kerry to go to Paris in gesture of sympathy   \n",
       "3  10142  Bernie supporters on Twitter erupt in anger ag...   \n",
       "4    875   The Battle of New York: Why This Primary Matters   \n",
       "\n",
       "                                                text  label  \n",
       "0  Daniel Greenfield, a Shillman Journalism Fello...      1  \n",
       "1  Google Pinterest Digg Linkedin Reddit Stumbleu...      1  \n",
       "2  U.S. Secretary of State John F. Kerry said Mon...      0  \n",
       "3  — Kaydee King (@KaydeeKing) November 9, 2016 T...      1  \n",
       "4  It's primary day in New York and front-runners...      0  "
      ]
     },
     "execution_count": 4,
     "metadata": {},
     "output_type": "execute_result"
    }
   ],
   "source": [
    "## Converting label into a binary variable\n",
    "df['label'] = df['label'].replace({'REAL': 0, 'FAKE': 1})\n",
    "df.head()"
   ]
  },
  {
   "cell_type": "code",
   "execution_count": 5,
   "id": "c8520efc",
   "metadata": {},
   "outputs": [
    {
     "name": "stdout",
     "output_type": "stream",
     "text": [
      "Fake News articles:\n",
      "3164\n",
      "Real News articles:\n",
      "3171\n"
     ]
    }
   ],
   "source": [
    "## Checking balance of the data\n",
    "print('Fake News articles:')\n",
    "print(df['label'].sum())\n",
    "print('Real News articles:')\n",
    "print((df['label'] == 0).sum())"
   ]
  },
  {
   "cell_type": "code",
   "execution_count": 6,
   "id": "deae6c7d",
   "metadata": {},
   "outputs": [],
   "source": [
    "## Converting text to lower case\n",
    "df['text'] = df['text'].str.lower()"
   ]
  },
  {
   "cell_type": "code",
   "execution_count": 7,
   "id": "1077a612",
   "metadata": {},
   "outputs": [
    {
     "name": "stdout",
     "output_type": "stream",
     "text": [
      "daniel greenfield, a shillman journalism fellow at the freedom center, is a new york writer focusing on radical islam. \n",
      "in the final stretch of the election, hillary rodham clinton has gone to war with the fbi. \n",
      "the word “unprecedented” has been thrown around so often this election that it ought to be retired. but it’s still unprecedented for the nominee of a major political party to go war with the fbi. \n",
      "but that’s exactly what hillary and her people have done. coma patients just waking up now and watching an hour of cnn from their hospital beds would assume that fbi director james comey is hillary’s opponent in this election. \n",
      "the fbi is under attack by everyone from obama to cnn. hillary’s people have circulated a letter attacking comey. there are currently more media hit pieces lambasting him than targeting trump. it wouldn’t be too surprising if the clintons or their allies were to start running attack ads against the fbi. \n",
      "the fbi’s leadership is being warned that the entire left-wing establishment will form a lynch mob if they continue going after hillary. and the fbi’s credibility is being attacked by the media and the democrats to preemptively head off the results of the investigation of the clinton foundation and hillary clinton. \n",
      "the covert struggle between fbi agents and obama’s doj people has gone explosively public. \n",
      "the new york times has compared comey to j. edgar hoover. its bizarre headline, “james comey role recalls hoover’s fbi, fairly or not” practically admits up front that it’s spouting nonsense. the boston globe has published a column calling for comey’s resignation. not to be outdone, time has an editorial claiming that the scandal is really an attack on all women. \n",
      "james carville appeared on msnbc to remind everyone that he was still alive and insane. he accused comey of coordinating with house republicans and the kgb. and you thought the “vast right wing conspiracy” was a stretch. \n",
      "countless media stories charge comey with violating procedure. do you know what’s a procedural violation? emailing classified information stored on your bathroom server. \n",
      "senator harry reid has sent comey a letter accusing him of violating the hatch act. the hatch act is a nice idea that has as much relevance in the age of obama as the tenth amendment. but the cable news spectrum quickly filled with media hacks glancing at the wikipedia article on the hatch act under the table while accusing the fbi director of one of the most awkward conspiracies against hillary ever. \n",
      "if james comey is really out to hurt hillary, he picked one hell of a strange way to do it. \n",
      "not too long ago democrats were breathing a sigh of relief when he gave hillary clinton a pass in a prominent public statement. if he really were out to elect trump by keeping the email scandal going, why did he trash the investigation? was he on the payroll of house republicans and the kgb back then and playing it coy or was it a sudden development where vladimir putin and paul ryan talked him into taking a look at anthony weiner’s computer? \n",
      "either comey is the most cunning fbi director that ever lived or he’s just awkwardly trying to navigate a political mess that has trapped him between a doj leadership whose political futures are tied to hillary’s victory and his own bureau whose apolitical agents just want to be allowed to do their jobs. \n",
      "the only truly mysterious thing is why hillary and her associates decided to go to war with a respected federal agency. most americans like the fbi while hillary clinton enjoys a 60% unfavorable rating. \n",
      "and it’s an interesting question. \n",
      "hillary’s old strategy was to lie and deny that the fbi even had a criminal investigation underway. instead her associates insisted that it was a security review. the fbi corrected her and she shrugged it off. but the old breezy denial approach has given way to a savage assault on the fbi. \n",
      "pretending that nothing was wrong was a bad strategy, but it was a better one that picking a fight with the fbi while lunatic clinton associates try to claim that the fbi is really the kgb. \n",
      "there are two possible explanations. \n",
      "hillary clinton might be arrogant enough to lash out at the fbi now that she believes that victory is near. the same kind of hubris that led her to plan her victory fireworks display could lead her to declare a war on the fbi for irritating her during the final miles of her campaign. \n",
      "but the other explanation is that her people panicked. \n",
      "going to war with the fbi is not the behavior of a smart and focused presidential campaign. it’s an act of desperation. when a presidential candidate decides that her only option is to try and destroy the credibility of the fbi, that’s not hubris, it’s fear of what the fbi might be about to reveal about her. \n",
      "during the original fbi investigation, hillary clinton was confident that she could ride it out. and she had good reason for believing that. but that hillary clinton is gone. in her place is a paranoid wreck. within a short space of time the “positive” clinton campaign promising to unite the country has been replaced by a desperate and flailing operation that has focused all its energy on fighting the fbi. \n",
      "there’s only one reason for such bizarre behavior. \n",
      "the clinton campaign has decided that an fbi investigation of the latest batch of emails poses a threat to its survival. and so it’s gone all in on fighting the fbi. it’s an unprecedented step born of fear. it’s hard to know whether that fear is justified. but the existence of that fear already tells us a whole lot. \n",
      "clinton loyalists rigged the old investigation. they knew the outcome ahead of time as well as they knew the debate questions. now suddenly they are no longer in control. and they are afraid. \n",
      "you can smell the fear. \n",
      "the fbi has wiretaps from the investigation of the clinton foundation. it’s finding new emails all the time. and clintonworld panicked. the spinmeisters of clintonworld have claimed that the email scandal is just so much smoke without fire. all that’s here is the appearance of impropriety without any of the substance. but this isn’t how you react to smoke. it’s how you respond to a fire. \n",
      "the misguided assault on the fbi tells us that hillary clinton and her allies are afraid of a revelation bigger than the fundamental illegality of her email setup. the email setup was a preemptive cover up. the clinton campaign has panicked badly out of the belief, right or wrong, that whatever crime the illegal setup was meant to cover up is at risk of being exposed. \n",
      "the clintons have weathered countless scandals over the years. whatever they are protecting this time around is bigger than the usual corruption, bribery, sexual assaults and abuses of power that have followed them around throughout the years. this is bigger and more damaging than any of the allegations that have already come out. and they don’t want fbi investigators anywhere near it. \n",
      "the campaign against comey is pure intimidation. it’s also a warning. any senior fbi people who value their careers are being warned to stay away. the democrats are closing ranks around their nominee against the fbi. it’s an ugly and unprecedented scene. it may also be their last stand. \n",
      "hillary clinton has awkwardly wound her way through numerous scandals in just this election cycle. but she’s never shown fear or desperation before. now that has changed. whatever she is afraid of, it lies buried in her emails with huma abedin. and it can bring her down like nothing else has.  \n"
     ]
    }
   ],
   "source": [
    "## Convert to dictionary\n",
    "news = df.to_dict('records')\n",
    "\n",
    "## Print the first news story\n",
    "print(news[0]['text'])"
   ]
  },
  {
   "cell_type": "code",
   "execution_count": 8,
   "id": "39298e7c",
   "metadata": {},
   "outputs": [],
   "source": [
    "## Remove punctuation\n",
    "\n",
    "def remove_punctuation(text):\n",
    "    '''\n",
    "    This function takes a text string and removes punctuation.\n",
    "\n",
    "    Parameters:\n",
    "        text (str): Text to be processed\n",
    "    \n",
    "    Returns:\n",
    "        str: Text string with punctuation removed\n",
    "    '''\n",
    "    # Create a translation table mapping every punctuation character to None\n",
    "    # string.punctuation doesn't remove quotation marks so added this separately\n",
    "    translator = str.maketrans('', '', string.punctuation + '“”‘’')\n",
    "\n",
    "    # Use this table to remove all punctuation from the text\n",
    "    return text.translate(translator)\n",
    "\n",
    "texts = [remove_punctuation(news_item['text']) for news_item in news]"
   ]
  },
  {
   "cell_type": "code",
   "execution_count": 9,
   "id": "99b50c08",
   "metadata": {},
   "outputs": [],
   "source": [
    "## Tokenise i.e separate each word\n",
    "\n",
    "from nltk.tokenize import word_tokenize\n",
    "\n",
    "tokens = [word_tokenize(text) for text in texts]"
   ]
  },
  {
   "cell_type": "code",
   "execution_count": 10,
   "id": "339acc03",
   "metadata": {},
   "outputs": [
    {
     "name": "stdout",
     "output_type": "stream",
     "text": [
      "['daniel', 'greenfield', 'a', 'shillman', 'journalism', 'fellow', 'at', 'the', 'freedom', 'center', 'is', 'a', 'new', 'york', 'writer', 'focusing', 'on', 'radical', 'islam', 'in', 'the', 'final', 'stretch', 'of', 'the', 'election', 'hillary', 'rodham', 'clinton', 'has', 'gone', 'to', 'war', 'with', 'the', 'fbi', 'the', 'word', 'unprecedented', 'has', 'been', 'thrown', 'around', 'so', 'often', 'this', 'election', 'that', 'it', 'ought', 'to', 'be', 'retired', 'but', 'its', 'still', 'unprecedented', 'for', 'the', 'nominee', 'of', 'a', 'major', 'political', 'party', 'to', 'go', 'war', 'with', 'the', 'fbi', 'but', 'thats', 'exactly', 'what', 'hillary', 'and', 'her', 'people', 'have', 'done', 'coma', 'patients', 'just', 'waking', 'up', 'now', 'and', 'watching', 'an', 'hour', 'of', 'cnn', 'from', 'their', 'hospital', 'beds', 'would', 'assume', 'that', 'fbi', 'director', 'james', 'comey', 'is', 'hillarys', 'opponent', 'in', 'this', 'election', 'the', 'fbi', 'is', 'under', 'attack', 'by', 'everyone', 'from', 'obama', 'to', 'cnn', 'hillarys', 'people', 'have', 'circulated', 'a', 'letter', 'attacking', 'comey', 'there', 'are', 'currently', 'more', 'media', 'hit', 'pieces', 'lambasting', 'him', 'than', 'targeting', 'trump', 'it', 'wouldnt', 'be', 'too', 'surprising', 'if', 'the', 'clintons', 'or', 'their', 'allies', 'were', 'to', 'start', 'running', 'attack', 'ads', 'against', 'the', 'fbi', 'the', 'fbis', 'leadership', 'is', 'being', 'warned', 'that', 'the', 'entire', 'leftwing', 'establishment', 'will', 'form', 'a', 'lynch', 'mob', 'if', 'they', 'continue', 'going', 'after', 'hillary', 'and', 'the', 'fbis', 'credibility', 'is', 'being', 'attacked', 'by', 'the', 'media', 'and', 'the', 'democrats', 'to', 'preemptively', 'head', 'off', 'the', 'results', 'of', 'the', 'investigation', 'of', 'the', 'clinton', 'foundation', 'and', 'hillary', 'clinton', 'the', 'covert', 'struggle', 'between', 'fbi', 'agents', 'and', 'obamas', 'doj', 'people', 'has', 'gone', 'explosively', 'public', 'the', 'new', 'york', 'times', 'has', 'compared', 'comey', 'to', 'j', 'edgar', 'hoover', 'its', 'bizarre', 'headline', 'james', 'comey', 'role', 'recalls', 'hoovers', 'fbi', 'fairly', 'or', 'not', 'practically', 'admits', 'up', 'front', 'that', 'its', 'spouting', 'nonsense', 'the', 'boston', 'globe', 'has', 'published', 'a', 'column', 'calling', 'for', 'comeys', 'resignation', 'not', 'to', 'be', 'outdone', 'time', 'has', 'an', 'editorial', 'claiming', 'that', 'the', 'scandal', 'is', 'really', 'an', 'attack', 'on', 'all', 'women', 'james', 'carville', 'appeared', 'on', 'msnbc', 'to', 'remind', 'everyone', 'that', 'he', 'was', 'still', 'alive', 'and', 'insane', 'he', 'accused', 'comey', 'of', 'coordinating', 'with', 'house', 'republicans', 'and', 'the', 'kgb', 'and', 'you', 'thought', 'the', 'vast', 'right', 'wing', 'conspiracy', 'was', 'a', 'stretch', 'countless', 'media', 'stories', 'charge', 'comey', 'with', 'violating', 'procedure', 'do', 'you', 'know', 'whats', 'a', 'procedural', 'violation', 'emailing', 'classified', 'information', 'stored', 'on', 'your', 'bathroom', 'server', 'senator', 'harry', 'reid', 'has', 'sent', 'comey', 'a', 'letter', 'accusing', 'him', 'of', 'violating', 'the', 'hatch', 'act', 'the', 'hatch', 'act', 'is', 'a', 'nice', 'idea', 'that', 'has', 'as', 'much', 'relevance', 'in', 'the', 'age', 'of', 'obama', 'as', 'the', 'tenth', 'amendment', 'but', 'the', 'cable', 'news', 'spectrum', 'quickly', 'filled', 'with', 'media', 'hacks', 'glancing', 'at', 'the', 'wikipedia', 'article', 'on', 'the', 'hatch', 'act', 'under', 'the', 'table', 'while', 'accusing', 'the', 'fbi', 'director', 'of', 'one', 'of', 'the', 'most', 'awkward', 'conspiracies', 'against', 'hillary', 'ever', 'if', 'james', 'comey', 'is', 'really', 'out', 'to', 'hurt', 'hillary', 'he', 'picked', 'one', 'hell', 'of', 'a', 'strange', 'way', 'to', 'do', 'it', 'not', 'too', 'long', 'ago', 'democrats', 'were', 'breathing', 'a', 'sigh', 'of', 'relief', 'when', 'he', 'gave', 'hillary', 'clinton', 'a', 'pass', 'in', 'a', 'prominent', 'public', 'statement', 'if', 'he', 'really', 'were', 'out', 'to', 'elect', 'trump', 'by', 'keeping', 'the', 'email', 'scandal', 'going', 'why', 'did', 'he', 'trash', 'the', 'investigation', 'was', 'he', 'on', 'the', 'payroll', 'of', 'house', 'republicans', 'and', 'the', 'kgb', 'back', 'then', 'and', 'playing', 'it', 'coy', 'or', 'was', 'it', 'a', 'sudden', 'development', 'where', 'vladimir', 'putin', 'and', 'paul', 'ryan', 'talked', 'him', 'into', 'taking', 'a', 'look', 'at', 'anthony', 'weiners', 'computer', 'either', 'comey', 'is', 'the', 'most', 'cunning', 'fbi', 'director', 'that', 'ever', 'lived', 'or', 'hes', 'just', 'awkwardly', 'trying', 'to', 'navigate', 'a', 'political', 'mess', 'that', 'has', 'trapped', 'him', 'between', 'a', 'doj', 'leadership', 'whose', 'political', 'futures', 'are', 'tied', 'to', 'hillarys', 'victory', 'and', 'his', 'own', 'bureau', 'whose', 'apolitical', 'agents', 'just', 'want', 'to', 'be', 'allowed', 'to', 'do', 'their', 'jobs', 'the', 'only', 'truly', 'mysterious', 'thing', 'is', 'why', 'hillary', 'and', 'her', 'associates', 'decided', 'to', 'go', 'to', 'war', 'with', 'a', 'respected', 'federal', 'agency', 'most', 'americans', 'like', 'the', 'fbi', 'while', 'hillary', 'clinton', 'enjoys', 'a', '60', 'unfavorable', 'rating', 'and', 'its', 'an', 'interesting', 'question', 'hillarys', 'old', 'strategy', 'was', 'to', 'lie', 'and', 'deny', 'that', 'the', 'fbi', 'even', 'had', 'a', 'criminal', 'investigation', 'underway', 'instead', 'her', 'associates', 'insisted', 'that', 'it', 'was', 'a', 'security', 'review', 'the', 'fbi', 'corrected', 'her', 'and', 'she', 'shrugged', 'it', 'off', 'but', 'the', 'old', 'breezy', 'denial', 'approach', 'has', 'given', 'way', 'to', 'a', 'savage', 'assault', 'on', 'the', 'fbi', 'pretending', 'that', 'nothing', 'was', 'wrong', 'was', 'a', 'bad', 'strategy', 'but', 'it', 'was', 'a', 'better', 'one', 'that', 'picking', 'a', 'fight', 'with', 'the', 'fbi', 'while', 'lunatic', 'clinton', 'associates', 'try', 'to', 'claim', 'that', 'the', 'fbi', 'is', 'really', 'the', 'kgb', 'there', 'are', 'two', 'possible', 'explanations', 'hillary', 'clinton', 'might', 'be', 'arrogant', 'enough', 'to', 'lash', 'out', 'at', 'the', 'fbi', 'now', 'that', 'she', 'believes', 'that', 'victory', 'is', 'near', 'the', 'same', 'kind', 'of', 'hubris', 'that', 'led', 'her', 'to', 'plan', 'her', 'victory', 'fireworks', 'display', 'could', 'lead', 'her', 'to', 'declare', 'a', 'war', 'on', 'the', 'fbi', 'for', 'irritating', 'her', 'during', 'the', 'final', 'miles', 'of', 'her', 'campaign', 'but', 'the', 'other', 'explanation', 'is', 'that', 'her', 'people', 'panicked', 'going', 'to', 'war', 'with', 'the', 'fbi', 'is', 'not', 'the', 'behavior', 'of', 'a', 'smart', 'and', 'focused', 'presidential', 'campaign', 'its', 'an', 'act', 'of', 'desperation', 'when', 'a', 'presidential', 'candidate', 'decides', 'that', 'her', 'only', 'option', 'is', 'to', 'try', 'and', 'destroy', 'the', 'credibility', 'of', 'the', 'fbi', 'thats', 'not', 'hubris', 'its', 'fear', 'of', 'what', 'the', 'fbi', 'might', 'be', 'about', 'to', 'reveal', 'about', 'her', 'during', 'the', 'original', 'fbi', 'investigation', 'hillary', 'clinton', 'was', 'confident', 'that', 'she', 'could', 'ride', 'it', 'out', 'and', 'she', 'had', 'good', 'reason', 'for', 'believing', 'that', 'but', 'that', 'hillary', 'clinton', 'is', 'gone', 'in', 'her', 'place', 'is', 'a', 'paranoid', 'wreck', 'within', 'a', 'short', 'space', 'of', 'time', 'the', 'positive', 'clinton', 'campaign', 'promising', 'to', 'unite', 'the', 'country', 'has', 'been', 'replaced', 'by', 'a', 'desperate', 'and', 'flailing', 'operation', 'that', 'has', 'focused', 'all', 'its', 'energy', 'on', 'fighting', 'the', 'fbi', 'theres', 'only', 'one', 'reason', 'for', 'such', 'bizarre', 'behavior', 'the', 'clinton', 'campaign', 'has', 'decided', 'that', 'an', 'fbi', 'investigation', 'of', 'the', 'latest', 'batch', 'of', 'emails', 'poses', 'a', 'threat', 'to', 'its', 'survival', 'and', 'so', 'its', 'gone', 'all', 'in', 'on', 'fighting', 'the', 'fbi', 'its', 'an', 'unprecedented', 'step', 'born', 'of', 'fear', 'its', 'hard', 'to', 'know', 'whether', 'that', 'fear', 'is', 'justified', 'but', 'the', 'existence', 'of', 'that', 'fear', 'already', 'tells', 'us', 'a', 'whole', 'lot', 'clinton', 'loyalists', 'rigged', 'the', 'old', 'investigation', 'they', 'knew', 'the', 'outcome', 'ahead', 'of', 'time', 'as', 'well', 'as', 'they', 'knew', 'the', 'debate', 'questions', 'now', 'suddenly', 'they', 'are', 'no', 'longer', 'in', 'control', 'and', 'they', 'are', 'afraid', 'you', 'can', 'smell', 'the', 'fear', 'the', 'fbi', 'has', 'wiretaps', 'from', 'the', 'investigation', 'of', 'the', 'clinton', 'foundation', 'its', 'finding', 'new', 'emails', 'all', 'the', 'time', 'and', 'clintonworld', 'panicked', 'the', 'spinmeisters', 'of', 'clintonworld', 'have', 'claimed', 'that', 'the', 'email', 'scandal', 'is', 'just', 'so', 'much', 'smoke', 'without', 'fire', 'all', 'thats', 'here', 'is', 'the', 'appearance', 'of', 'impropriety', 'without', 'any', 'of', 'the', 'substance', 'but', 'this', 'isnt', 'how', 'you', 'react', 'to', 'smoke', 'its', 'how', 'you', 'respond', 'to', 'a', 'fire', 'the', 'misguided', 'assault', 'on', 'the', 'fbi', 'tells', 'us', 'that', 'hillary', 'clinton', 'and', 'her', 'allies', 'are', 'afraid', 'of', 'a', 'revelation', 'bigger', 'than', 'the', 'fundamental', 'illegality', 'of', 'her', 'email', 'setup', 'the', 'email', 'setup', 'was', 'a', 'preemptive', 'cover', 'up', 'the', 'clinton', 'campaign', 'has', 'panicked', 'badly', 'out', 'of', 'the', 'belief', 'right', 'or', 'wrong', 'that', 'whatever', 'crime', 'the', 'illegal', 'setup', 'was', 'meant', 'to', 'cover', 'up', 'is', 'at', 'risk', 'of', 'being', 'exposed', 'the', 'clintons', 'have', 'weathered', 'countless', 'scandals', 'over', 'the', 'years', 'whatever', 'they', 'are', 'protecting', 'this', 'time', 'around', 'is', 'bigger', 'than', 'the', 'usual', 'corruption', 'bribery', 'sexual', 'assaults', 'and', 'abuses', 'of', 'power', 'that', 'have', 'followed', 'them', 'around', 'throughout', 'the', 'years', 'this', 'is', 'bigger', 'and', 'more', 'damaging', 'than', 'any', 'of', 'the', 'allegations', 'that', 'have', 'already', 'come', 'out', 'and', 'they', 'dont', 'want', 'fbi', 'investigators', 'anywhere', 'near', 'it', 'the', 'campaign', 'against', 'comey', 'is', 'pure', 'intimidation', 'its', 'also', 'a', 'warning', 'any', 'senior', 'fbi', 'people', 'who', 'value', 'their', 'careers', 'are', 'being', 'warned', 'to', 'stay', 'away', 'the', 'democrats', 'are', 'closing', 'ranks', 'around', 'their', 'nominee', 'against', 'the', 'fbi', 'its', 'an', 'ugly', 'and', 'unprecedented', 'scene', 'it', 'may', 'also', 'be', 'their', 'last', 'stand', 'hillary', 'clinton', 'has', 'awkwardly', 'wound', 'her', 'way', 'through', 'numerous', 'scandals', 'in', 'just', 'this', 'election', 'cycle', 'but', 'shes', 'never', 'shown', 'fear', 'or', 'desperation', 'before', 'now', 'that', 'has', 'changed', 'whatever', 'she', 'is', 'afraid', 'of', 'it', 'lies', 'buried', 'in', 'her', 'emails', 'with', 'huma', 'abedin', 'and', 'it', 'can', 'bring', 'her', 'down', 'like', 'nothing', 'else', 'has']\n"
     ]
    }
   ],
   "source": [
    "## Print individual words (tokens) of first news story\n",
    "print(tokens[0])"
   ]
  },
  {
   "cell_type": "code",
   "execution_count": 11,
   "id": "3e9b12ce",
   "metadata": {},
   "outputs": [],
   "source": [
    "## Remove stopwords\n",
    "\n",
    "# Load common English stopwords\n",
    "stops = stopwords.words('english')\n",
    "\n",
    "# Define a function that removes stopwords\n",
    "def remove_stops(text, stops):\n",
    "    return [token for token in text if token not in set(stops)]\n",
    "\n",
    "tokens = [remove_stops(article, stops) for article in tokens]"
   ]
  },
  {
   "cell_type": "code",
   "execution_count": 12,
   "id": "2b4db924",
   "metadata": {},
   "outputs": [],
   "source": [
    "# create a list called texts\n",
    "# Concatenate the individual tokens within each news story into a single string\n",
    "texts = [' '.join(article) for article in tokens]\n",
    "\n",
    "# Iterates over each row and extract the label: 1 for fake, 0 for real\n",
    "fake = [row['label'] for row in news]"
   ]
  },
  {
   "cell_type": "code",
   "execution_count": 13,
   "id": "1eaaeb1e",
   "metadata": {},
   "outputs": [
    {
     "name": "stdout",
     "output_type": "stream",
     "text": [
      "daniel greenfield shillman journalism fellow freedom center new york writer focusing radical islam final stretch election hillary rodham clinton gone war fbi word unprecedented thrown around often election ought retired still unprecedented nominee major political party go war fbi thats exactly hillary people done coma patients waking watching hour cnn hospital beds would assume fbi director james comey hillarys opponent election fbi attack everyone obama cnn hillarys people circulated letter attacking comey currently media hit pieces lambasting targeting trump wouldnt surprising clintons allies start running attack ads fbi fbis leadership warned entire leftwing establishment form lynch mob continue going hillary fbis credibility attacked media democrats preemptively head results investigation clinton foundation hillary clinton covert struggle fbi agents obamas doj people gone explosively public new york times compared comey j edgar hoover bizarre headline james comey role recalls hoovers fbi fairly practically admits front spouting nonsense boston globe published column calling comeys resignation outdone time editorial claiming scandal really attack women james carville appeared msnbc remind everyone still alive insane accused comey coordinating house republicans kgb thought vast right wing conspiracy stretch countless media stories charge comey violating procedure know whats procedural violation emailing classified information stored bathroom server senator harry reid sent comey letter accusing violating hatch act hatch act nice idea much relevance age obama tenth amendment cable news spectrum quickly filled media hacks glancing wikipedia article hatch act table accusing fbi director one awkward conspiracies hillary ever james comey really hurt hillary picked one hell strange way long ago democrats breathing sigh relief gave hillary clinton pass prominent public statement really elect trump keeping email scandal going trash investigation payroll house republicans kgb back playing coy sudden development vladimir putin paul ryan talked taking look anthony weiners computer either comey cunning fbi director ever lived hes awkwardly trying navigate political mess trapped doj leadership whose political futures tied hillarys victory bureau whose apolitical agents want allowed jobs truly mysterious thing hillary associates decided go war respected federal agency americans like fbi hillary clinton enjoys 60 unfavorable rating interesting question hillarys old strategy lie deny fbi even criminal investigation underway instead associates insisted security review fbi corrected shrugged old breezy denial approach given way savage assault fbi pretending nothing wrong bad strategy better one picking fight fbi lunatic clinton associates try claim fbi really kgb two possible explanations hillary clinton might arrogant enough lash fbi believes victory near kind hubris led plan victory fireworks display could lead declare war fbi irritating final miles campaign explanation people panicked going war fbi behavior smart focused presidential campaign act desperation presidential candidate decides option try destroy credibility fbi thats hubris fear fbi might reveal original fbi investigation hillary clinton confident could ride good reason believing hillary clinton gone place paranoid wreck within short space time positive clinton campaign promising unite country replaced desperate flailing operation focused energy fighting fbi theres one reason bizarre behavior clinton campaign decided fbi investigation latest batch emails poses threat survival gone fighting fbi unprecedented step born fear hard know whether fear justified existence fear already tells us whole lot clinton loyalists rigged old investigation knew outcome ahead time well knew debate questions suddenly longer control afraid smell fear fbi wiretaps investigation clinton foundation finding new emails time clintonworld panicked spinmeisters clintonworld claimed email scandal much smoke without fire thats appearance impropriety without substance isnt react smoke respond fire misguided assault fbi tells us hillary clinton allies afraid revelation bigger fundamental illegality email setup email setup preemptive cover clinton campaign panicked badly belief right wrong whatever crime illegal setup meant cover risk exposed clintons weathered countless scandals years whatever protecting time around bigger usual corruption bribery sexual assaults abuses power followed around throughout years bigger damaging allegations already come dont want fbi investigators anywhere near campaign comey pure intimidation also warning senior fbi people value careers warned stay away democrats closing ranks around nominee fbi ugly unprecedented scene may also last stand hillary clinton awkwardly wound way numerous scandals election cycle shes never shown fear desperation changed whatever afraid lies buried emails huma abedin bring like nothing else\n"
     ]
    },
    {
     "data": {
      "text/plain": [
       "[1, 1, 0, 1, 0, 1, 1, 0, 0, 0]"
      ]
     },
     "execution_count": 13,
     "metadata": {},
     "output_type": "execute_result"
    }
   ],
   "source": [
    "## Check it has worked\n",
    "# Print text of first article as a list of words\n",
    "print(texts[0])\n",
    "# Show the labels for the first 10 stories\n",
    "fake[0:10]"
   ]
  },
  {
   "cell_type": "markdown",
   "id": "20e0e03f",
   "metadata": {},
   "source": [
    "### Looking at the most frequent words"
   ]
  },
  {
   "cell_type": "code",
   "execution_count": 14,
   "id": "4a5660b0",
   "metadata": {},
   "outputs": [],
   "source": [
    "# Initialize vectorizer which will be used to convert text into a matrix of token counts.\n",
    "vectorizer = CountVectorizer()\n",
    "\n",
    "# Transform the text data \n",
    "CleanText = vectorizer.fit_transform(texts)\n",
    "# converts the list of stories (texts) into a sparse matrix (X)\n",
    "# each row of the matrix represents an individual news story\n",
    "# each column represents a (unique) word in the corpus of news stories. \n",
    "# The values in the matrix indicate how many times each word appears in a particular news story."
   ]
  },
  {
   "cell_type": "code",
   "execution_count": 15,
   "id": "85abfc3a",
   "metadata": {},
   "outputs": [
    {
     "name": "stdout",
     "output_type": "stream",
     "text": [
      "(6335, 85567)\n"
     ]
    }
   ],
   "source": [
    "print(CleanText.shape)\n",
    "# 6335 news stories and 85,567 unique words (tokens) in the corpus"
   ]
  },
  {
   "cell_type": "code",
   "execution_count": 16,
   "id": "10b70b14",
   "metadata": {},
   "outputs": [
    {
     "name": "stdout",
     "output_type": "stream",
     "text": [
      "The index for most frequent word is 29227\n",
      "The most frequent word is fbi\n",
      "It appears 29 times in the news stories\n",
      "\n",
      "The 10 most common words are:\n",
      "fbi\n",
      "clinton\n",
      "hillary\n",
      "comey\n",
      "investigation\n",
      "campaign\n",
      "fear\n",
      "time\n",
      "people\n",
      "war\n"
     ]
    }
   ],
   "source": [
    "# todense() converts the sparse matrix (where most of the counts are 0) to a dense one, where counts are non-zero values\n",
    "# np.argmax finds the index with the highest value\n",
    "word_freq = np.argmax(CleanText[0,:].todense())\n",
    "print(f'The index for most frequent word is {word_freq}')\n",
    "# vectorizer.get_feature_names_out() pulls that word out of the matrix\n",
    "print(f'The most frequent word is {vectorizer.get_feature_names_out()[word_freq]}')\n",
    "\n",
    "word_count = CleanText[0, word_freq]\n",
    "print(f'It appears {word_count} times in the news stories\\n')\n",
    "\n",
    "# Sort words in order of frequency\n",
    "words_sorted = np.argsort(-CleanText[0,:].todense())\n",
    "print('The 10 most common words are:')\n",
    "for word_freq in words_sorted[0,0:10].tolist()[0]:\n",
    "    print(vectorizer.get_feature_names_out()[word_freq])"
   ]
  },
  {
   "cell_type": "code",
   "execution_count": 17,
   "id": "ef59606c",
   "metadata": {},
   "outputs": [
    {
     "name": "stdout",
     "output_type": "stream",
     "text": [
      "Training set size = 4434\n",
      "Test set size = 1901\n"
     ]
    }
   ],
   "source": [
    "# Put labels in form of numpy arrays\n",
    "y = np.array(fake)\n",
    "X = CleanText\n",
    "\n",
    "# Split data into training and testing sets\n",
    "X_train, X_test, y_train, y_test = train_test_split(X, y, test_size=0.30, random_state=1234)\n",
    "\n",
    "print(\"Training set size = %s\" % y_train.shape)\n",
    "print(\"Test set size = %s\" % y_test.shape)"
   ]
  },
  {
   "cell_type": "code",
   "execution_count": 18,
   "id": "1b385d96",
   "metadata": {},
   "outputs": [
    {
     "name": "stdout",
     "output_type": "stream",
     "text": [
      "In-sample accuracy = 0.9234411996842936\n"
     ]
    }
   ],
   "source": [
    "# Initialize the classifer\n",
    "clf = MultinomialNB()\n",
    "\n",
    "# Fit the model\n",
    "clf_fit = clf.fit(X_train, y_train)\n",
    "\n",
    "# We can print in-sample fit\n",
    "print(\"In-sample accuracy = %s\" % clf_fit.score(X, y))"
   ]
  },
  {
   "cell_type": "code",
   "execution_count": 19,
   "id": "4598811a",
   "metadata": {},
   "outputs": [
    {
     "name": "stdout",
     "output_type": "stream",
     "text": [
      "Probability of the first news article being fake:\n",
      "[1.59690432e-61 1.00000000e+00]\n",
      "\n",
      "Classification of the first news article:\n",
      "1\n"
     ]
    }
   ],
   "source": [
    "print('Probability of the first news article being fake:')\n",
    "prob_ests = clf_fit.predict_proba(X)\n",
    "print(prob_ests[0,:])\n",
    "\n",
    "pred = clf_fit.predict(X)\n",
    "\n",
    "print('\\nClassification of the first news article:')\n",
    "print(pred[0])"
   ]
  },
  {
   "cell_type": "markdown",
   "id": "216e0fc9",
   "metadata": {},
   "source": [
    "#### Model Performance"
   ]
  },
  {
   "cell_type": "code",
   "execution_count": 20,
   "id": "a82fac72",
   "metadata": {},
   "outputs": [
    {
     "name": "stdout",
     "output_type": "stream",
     "text": [
      "Naive Bayesian Model Performance:\n",
      "\n",
      "Precision = 0.9188275084554679\n",
      "Recall = 0.8410732714138287\n",
      "F1 score = 0.8782327586206896\n",
      "Accuracy = 0.8811152025249869\n"
     ]
    }
   ],
   "source": [
    "y_predict = clf_fit.predict(X_test)\n",
    "\n",
    "print('Naive Bayesian Model Performance:\\n')\n",
    "print(f'Precision = {precision_score(y_test, y_predict)}')\n",
    "print(f'Recall = {recall_score(y_test, y_predict)}')\n",
    "print(f'F1 score = {f1_score(y_test, y_predict)}')\n",
    "print(f'Accuracy = {clf_fit.score(X_test, y_test)}')"
   ]
  },
  {
   "cell_type": "markdown",
   "id": "b074f5af",
   "metadata": {},
   "source": [
    "##### Model Performance: K-fold Cross Validation"
   ]
  },
  {
   "cell_type": "code",
   "execution_count": 21,
   "id": "c8ee4b1b",
   "metadata": {},
   "outputs": [
    {
     "data": {
      "text/plain": [
       "0.8848549678178486"
      ]
     },
     "execution_count": 21,
     "metadata": {},
     "output_type": "execute_result"
    }
   ],
   "source": [
    "## Cross-validation score\n",
    "# 10-fold cross-validation\n",
    "# evaluating according to F1 score (mean of precision and recall)\n",
    "np.mean(cross_val_score(clf, X, y, cv=10, scoring=\"f1\"))"
   ]
  },
  {
   "cell_type": "markdown",
   "id": "1fdb2a39",
   "metadata": {},
   "source": [
    "### Logistic Regression"
   ]
  },
  {
   "cell_type": "code",
   "execution_count": 22,
   "id": "41bcfa23",
   "metadata": {},
   "outputs": [],
   "source": [
    "# Initialize the classifier\n",
    "clf = LogisticRegression(solver='lbfgs', max_iter=500, random_state = 123)"
   ]
  },
  {
   "cell_type": "code",
   "execution_count": 23,
   "id": "ad009774",
   "metadata": {},
   "outputs": [
    {
     "name": "stdout",
     "output_type": "stream",
     "text": [
      "Logisitc Regression Performance:\n",
      "\n",
      "Precision = 0.9202453987730062\n",
      "Recall = 0.9287925696594427\n",
      "F1 score = 0.9244992295839752\n",
      "Accuracy = 0.8811152025249869\n"
     ]
    }
   ],
   "source": [
    "logmodel = clf.fit(X_train, y_train)\n",
    "y_pred = logmodel.predict(X_test)\n",
    "\n",
    "print('Logisitc Regression Performance:\\n')\n",
    "print(f'Precision = {precision_score(y_test, y_pred)}')\n",
    "print(f'Recall = {recall_score(y_test, y_pred)}')\n",
    "print(f'F1 score = {f1_score(y_test, y_pred)}')\n",
    "print(f'Accuracy = {clf_fit.score(X_test, y_test)}')"
   ]
  },
  {
   "cell_type": "markdown",
   "id": "e16e5ff5",
   "metadata": {},
   "source": [
    "#### Model Performance"
   ]
  },
  {
   "cell_type": "code",
   "execution_count": 24,
   "id": "78b3ca32",
   "metadata": {},
   "outputs": [
    {
     "data": {
      "text/plain": [
       "0.9192496914963139"
      ]
     },
     "execution_count": 24,
     "metadata": {},
     "output_type": "execute_result"
    }
   ],
   "source": [
    "np.mean(cross_val_score(clf, X, y, cv=5, scoring=\"f1\"))\n",
    "\n",
    "## performs better than naive bayesian model"
   ]
  },
  {
   "cell_type": "markdown",
   "id": "5527cb46",
   "metadata": {},
   "source": [
    "####  Term Frequency-Inverse Document Frequency Vectorizer"
   ]
  },
  {
   "cell_type": "code",
   "execution_count": 25,
   "id": "bb2900e9",
   "metadata": {
    "scrolled": true
   },
   "outputs": [],
   "source": [
    "# Initiate the vectorizer\n",
    "vectorizer = TfidfVectorizer()\n",
    "\n",
    "# Generate TF-IDF weights\n",
    "X_tfidf = vectorizer.fit_transform(texts)"
   ]
  },
  {
   "cell_type": "code",
   "execution_count": 26,
   "id": "1c2805ac",
   "metadata": {},
   "outputs": [
    {
     "data": {
      "text/plain": [
       "0.9209180321015852"
      ]
     },
     "execution_count": 26,
     "metadata": {},
     "output_type": "execute_result"
    }
   ],
   "source": [
    "## Do we get an improvement in the cross-validation score?\n",
    "clf = LogisticRegression(solver='lbfgs', max_iter=500)\n",
    "\n",
    "np.mean(cross_val_score(clf, X_tfidf, y, cv=10, scoring=\"f1\"))\n",
    "# yes"
   ]
  },
  {
   "cell_type": "markdown",
   "id": "a17a44a6",
   "metadata": {},
   "source": [
    "#### Bigrams\n"
   ]
  },
  {
   "cell_type": "code",
   "execution_count": 27,
   "id": "c3c13dd2",
   "metadata": {},
   "outputs": [],
   "source": [
    "# Use unigrams and bigrams\n",
    "vectorizer_bigram = TfidfVectorizer(ngram_range=(1,2))\n",
    "\n",
    "# Generate TF-IDF weights\n",
    "X_bigram = vectorizer_bigram.fit_transform(texts)"
   ]
  },
  {
   "cell_type": "code",
   "execution_count": 28,
   "id": "f3e4055c",
   "metadata": {},
   "outputs": [
    {
     "data": {
      "text/plain": [
       "0.9086244275273845"
      ]
     },
     "execution_count": 28,
     "metadata": {},
     "output_type": "execute_result"
    }
   ],
   "source": [
    "## Does adding bigrams improve the model's performance?\n",
    "\n",
    "# Initialize the vectorizer\n",
    "vectorizer = TfidfVectorizer(ngram_range=(1,2))\n",
    "\n",
    "# Generate TF-IDF weights\n",
    "X_tfidf = vectorizer.fit_transform(texts)\n",
    "\n",
    "# Initialize the classifier\n",
    "clf = LogisticRegression(solver='lbfgs', max_iter=1000)\n",
    "\n",
    "np.mean(cross_val_score(clf, X_tfidf, y, cv=5, scoring=\"f1\"))"
   ]
  },
  {
   "cell_type": "markdown",
   "id": "69905c58",
   "metadata": {},
   "source": [
    "Using bigrams worsens the performance of the model, so I will continue to use unigrams instead."
   ]
  },
  {
   "cell_type": "markdown",
   "id": "810cd5dd",
   "metadata": {},
   "source": [
    "#### Hyperparameter Tuning\n"
   ]
  },
  {
   "cell_type": "code",
   "execution_count": 29,
   "id": "31b3e447",
   "metadata": {},
   "outputs": [],
   "source": [
    "# Initialize the vectorizer\n",
    "vectorizer = TfidfVectorizer()\n",
    "\n",
    "# Generate TF-IDF weights\n",
    "X_tfidf = vectorizer.fit_transform(texts)\n",
    "\n",
    "# And then get the \"class\" variable\n",
    "y = np.array([row['label'] for row in news])\n",
    "\n",
    "# Initialize the classifier\n",
    "clf = LogisticRegression(solver='lbfgs', max_iter=1000)\n",
    "\n",
    "# Initialize the parameter space\n",
    "param_grid = [\n",
    "  {'C': [0.5, 1, 1.5, 2, 4, 6, 8, 10, 12, 14, 16, 18]}\n",
    " ]\n",
    "\n",
    "# Initialize the classifier\n",
    "clf = LogisticRegression(solver='lbfgs', max_iter=500)\n",
    "\n",
    "# Initialize GridSearch\n",
    "grid_search = GridSearchCV(clf, param_grid, cv=5, scoring='f1', return_train_score=True, n_jobs=4)"
   ]
  },
  {
   "cell_type": "code",
   "execution_count": 30,
   "id": "723d307d",
   "metadata": {},
   "outputs": [
    {
     "name": "stdout",
     "output_type": "stream",
     "text": [
      "Best parameters:\n",
      " {'C': 18}\n",
      "\n",
      "Best score =  0.9381015586825342\n"
     ]
    }
   ],
   "source": [
    "# run the grid search\n",
    "grid_search.fit(X_tfidf, y)\n",
    "\n",
    "print('Best parameters:\\n', grid_search.best_params_)\n",
    "print('\\nBest score = ', grid_search.best_score_)"
   ]
  },
  {
   "cell_type": "markdown",
   "id": "0973afbc",
   "metadata": {},
   "source": [
    "#### Bayesian Optimisation"
   ]
  },
  {
   "cell_type": "code",
   "execution_count": 31,
   "id": "cd01800c",
   "metadata": {},
   "outputs": [],
   "source": [
    "X_train, X_test, y_train, y_test = train_test_split(X_tfidf, y, test_size=0.30, random_state=1234)"
   ]
  },
  {
   "cell_type": "code",
   "execution_count": 32,
   "id": "3bfc8d28",
   "metadata": {},
   "outputs": [],
   "source": [
    "space = {\n",
    "    'C': hp.uniform('C', .1, 20),\n",
    "}\n",
    "\n",
    "# Define the objective function to minimize\n",
    "def objective(params):\n",
    "    clf = LogisticRegression(solver='lbfgs', max_iter=500, **params)\n",
    "    # Note: you could use cross-validation here, but it takes a long time! We\n",
    "    # will speed things up using a train-test split. \n",
    "    # score = np.mean(cross_val_score(clf, X_tfidf, y, cv=10, scoring=\"f1\"))\n",
    "    clf.fit(X_train, y_train)\n",
    "    y_pred = clf.predict(X_test)\n",
    "    score = f1_score(y_test, y_pred)\n",
    "    return {'loss': -score, 'status': STATUS_OK}"
   ]
  },
  {
   "cell_type": "code",
   "execution_count": 33,
   "id": "a68d06d0",
   "metadata": {},
   "outputs": [
    {
     "name": "stdout",
     "output_type": "stream",
     "text": [
      "100%|██████████████████████████████████████████████████████████████████████████████████████████████████████████████████████████████████| 100/100 [01:23<00:00,  1.20trial/s, best loss: -0.9412365866121616]\n",
      "Best set of hyperparameters:  {'C': 18.74575432533948}\n"
     ]
    }
   ],
   "source": [
    "best_params = fmin(objective, space, algo=tpe.suggest, max_evals=100)\n",
    "print(\"Best set of hyperparameters: \", best_params)"
   ]
  },
  {
   "cell_type": "code",
   "execution_count": 34,
   "id": "26b4cd45",
   "metadata": {},
   "outputs": [
    {
     "data": {
      "text/plain": [
       "0.93826797963932"
      ]
     },
     "execution_count": 34,
     "metadata": {},
     "output_type": "execute_result"
    }
   ],
   "source": [
    "clf = LogisticRegression(solver='lbfgs', max_iter=500, **best_params)\n",
    "fit = clf.fit(X_tfidf, y)\n",
    "np.mean(cross_val_score(clf, X_tfidf, y, cv=5, scoring=\"f1\"))"
   ]
  },
  {
   "cell_type": "markdown",
   "id": "dda467f8",
   "metadata": {},
   "source": [
    "This is the best model, with 93.8% accuracy.\n",
    "This model is the logistic regression model using TF-IDF, unigrams and bayesian optimisation."
   ]
  },
  {
   "cell_type": "markdown",
   "id": "869397d0",
   "metadata": {},
   "source": [
    "##### Confusion Matrix"
   ]
  },
  {
   "cell_type": "code",
   "execution_count": 35,
   "id": "c109ffae",
   "metadata": {
    "scrolled": true
   },
   "outputs": [],
   "source": [
    "clf.fit(X_train, y_train)\n",
    "y_pred = clf.predict(X_test)\n",
    "conf_matrix = confusion_matrix(y_test, y_pred)"
   ]
  },
  {
   "cell_type": "code",
   "execution_count": 36,
   "id": "53f550cc",
   "metadata": {},
   "outputs": [
    {
     "data": {
      "image/png": "[encoded data removed]",
      "text/plain": [
       "<Figure size 640x480 with 2 Axes>"
      ]
     },
     "metadata": {},
     "output_type": "display_data"
    }
   ],
   "source": [
    "## Produce Visualised Confusion Matrix\n",
    "sns.heatmap(conf_matrix, annot=True, fmt='d', cmap='Blues')\n",
    "plt.xlabel('Predicted')\n",
    "plt.ylabel('True')\n",
    "plt.show()"
   ]
  },
  {
   "cell_type": "markdown",
   "id": "d6bd9a5e",
   "metadata": {},
   "source": [
    "### Pickle Model"
   ]
  },
  {
   "cell_type": "code",
   "execution_count": 37,
   "id": "00911c3b",
   "metadata": {},
   "outputs": [
    {
     "data": {
      "text/html": [
       "<style>#sk-container-id-1 {color: black;}#sk-container-id-1 pre{padding: 0;}#sk-container-id-1 div.sk-toggleable {background-color: white;}#sk-container-id-1 label.sk-toggleable__label {cursor: pointer;display: block;width: 100%;margin-bottom: 0;padding: 0.3em;box-sizing: border-box;text-align: center;}#sk-container-id-1 label.sk-toggleable__label-arrow:before {content: \"▸\";float: left;margin-right: 0.25em;color: #696969;}#sk-container-id-1 label.sk-toggleable__label-arrow:hover:before {color: black;}#sk-container-id-1 div.sk-estimator:hover label.sk-toggleable__label-arrow:before {color: black;}#sk-container-id-1 div.sk-toggleable__content {max-height: 0;max-width: 0;overflow: hidden;text-align: left;background-color: #f0f8ff;}#sk-container-id-1 div.sk-toggleable__content pre {margin: 0.2em;color: black;border-radius: 0.25em;background-color: #f0f8ff;}#sk-container-id-1 input.sk-toggleable__control:checked~div.sk-toggleable__content {max-height: 200px;max-width: 100%;overflow: auto;}#sk-container-id-1 input.sk-toggleable__control:checked~label.sk-toggleable__label-arrow:before {content: \"▾\";}#sk-container-id-1 div.sk-estimator input.sk-toggleable__control:checked~label.sk-toggleable__label {background-color: #d4ebff;}#sk-container-id-1 div.sk-label input.sk-toggleable__control:checked~label.sk-toggleable__label {background-color: #d4ebff;}#sk-container-id-1 input.sk-hidden--visually {border: 0;clip: rect(1px 1px 1px 1px);clip: rect(1px, 1px, 1px, 1px);height: 1px;margin: -1px;overflow: hidden;padding: 0;position: absolute;width: 1px;}#sk-container-id-1 div.sk-estimator {font-family: monospace;background-color: #f0f8ff;border: 1px dotted black;border-radius: 0.25em;box-sizing: border-box;margin-bottom: 0.5em;}#sk-container-id-1 div.sk-estimator:hover {background-color: #d4ebff;}#sk-container-id-1 div.sk-parallel-item::after {content: \"\";width: 100%;border-bottom: 1px solid gray;flex-grow: 1;}#sk-container-id-1 div.sk-label:hover label.sk-toggleable__label {background-color: #d4ebff;}#sk-container-id-1 div.sk-serial::before {content: \"\";position: absolute;border-left: 1px solid gray;box-sizing: border-box;top: 0;bottom: 0;left: 50%;z-index: 0;}#sk-container-id-1 div.sk-serial {display: flex;flex-direction: column;align-items: center;background-color: white;padding-right: 0.2em;padding-left: 0.2em;position: relative;}#sk-container-id-1 div.sk-item {position: relative;z-index: 1;}#sk-container-id-1 div.sk-parallel {display: flex;align-items: stretch;justify-content: center;background-color: white;position: relative;}#sk-container-id-1 div.sk-item::before, #sk-container-id-1 div.sk-parallel-item::before {content: \"\";position: absolute;border-left: 1px solid gray;box-sizing: border-box;top: 0;bottom: 0;left: 50%;z-index: -1;}#sk-container-id-1 div.sk-parallel-item {display: flex;flex-direction: column;z-index: 1;position: relative;background-color: white;}#sk-container-id-1 div.sk-parallel-item:first-child::after {align-self: flex-end;width: 50%;}#sk-container-id-1 div.sk-parallel-item:last-child::after {align-self: flex-start;width: 50%;}#sk-container-id-1 div.sk-parallel-item:only-child::after {width: 0;}#sk-container-id-1 div.sk-dashed-wrapped {border: 1px dashed gray;margin: 0 0.4em 0.5em 0.4em;box-sizing: border-box;padding-bottom: 0.4em;background-color: white;}#sk-container-id-1 div.sk-label label {font-family: monospace;font-weight: bold;display: inline-block;line-height: 1.2em;}#sk-container-id-1 div.sk-label-container {text-align: center;}#sk-container-id-1 div.sk-container {/* jupyter's `normalize.less` sets `[hidden] { display: none; }` but bootstrap.min.css set `[hidden] { display: none !important; }` so we also need the `!important` here to be able to override the default hidden behavior on the sphinx rendered scikit-learn.org. See: https://github.com/scikit-learn/scikit-learn/issues/21755 */display: inline-block !important;position: relative;}#sk-container-id-1 div.sk-text-repr-fallback {display: none;}</style><div id=\"sk-container-id-1\" class=\"sk-top-container\"><div class=\"sk-text-repr-fallback\"><pre>LogisticRegression(C=18.74575432533948, max_iter=500)</pre><b>In a Jupyter environment, please rerun this cell to show the HTML representation or trust the notebook. <br />On GitHub, the HTML representation is unable to render, please try loading this page with nbviewer.org.</b></div><div class=\"sk-container\" hidden><div class=\"sk-item\"><div class=\"sk-estimator sk-toggleable\"><input class=\"sk-toggleable__control sk-hidden--visually\" id=\"sk-estimator-id-1\" type=\"checkbox\" checked><label for=\"sk-estimator-id-1\" class=\"sk-toggleable__label sk-toggleable__label-arrow\">LogisticRegression</label><div class=\"sk-toggleable__content\"><pre>LogisticRegression(C=18.74575432533948, max_iter=500)</pre></div></div></div></div></div>"
      ],
      "text/plain": [
       "LogisticRegression(C=18.74575432533948, max_iter=500)"
      ]
     },
     "execution_count": 37,
     "metadata": {},
     "output_type": "execute_result"
    }
   ],
   "source": [
    "pickle.dump(fit, open('logisticregression_model.pkl', 'wb'))\n",
    "loaded_model = pickle.load(open('logisticregression_model.pkl', 'rb'))\n",
    "loaded_model"
   ]
  },
  {
   "cell_type": "markdown",
   "id": "eb6d0c9e",
   "metadata": {},
   "source": [
    "### Testing the Model on unseen data\n",
    "Using a section of a recent article from NBC news (https://www.nbcnews.com/politics/donald-trump/trump-sparks-republican-backlash-saying-immigrants-are-poisoning-blood-rcna130493). "
   ]
  },
  {
   "cell_type": "code",
   "execution_count": 38,
   "id": "dbfaebd3",
   "metadata": {},
   "outputs": [],
   "source": [
    "text = \"\"\"\"I think that that rhetoric is very inappropriate, but this administration’s policies are feeding right into it. And so I disagree with that. I think we should celebrate our diversity,\" said Rounds, who had endorsed Sen. Tim Scott, R-S.C., for president before he dropped out.\n",
    "\n",
    "“But unfortunately, that type of rhetoric is what happens when you don’t have a border policy that works. And it just simply feeds that type of poor, unacceptable rhetoric,” he added.\n",
    "\n",
    "Asked about the Republican criticism, Trump campaign spokesperson Steven Cheung said the former president \"has by far the most Senate endorsements in this race, people who are fighters and want to Make America Great Again.\"\n",
    "\n",
    "Trump's remarks took place at a speech in New Hampshire on Saturday, and he has since doubled down on them in a Truth Social post. \"\"\""
   ]
  },
  {
   "cell_type": "code",
   "execution_count": 39,
   "id": "8bbe2596",
   "metadata": {},
   "outputs": [],
   "source": [
    "## Prepare the text\n",
    "text_lower = text.lower()\n",
    "text = remove_punctuation(text_lower)\n",
    "tokens = word_tokenize(text)\n",
    "tokens = remove_stops(tokens, stops)\n",
    "text_clean = ' '.join(tokens)"
   ]
  },
  {
   "cell_type": "code",
   "execution_count": 40,
   "id": "ee8f196c",
   "metadata": {},
   "outputs": [],
   "source": [
    "X_unlabeled = vectorizer.transform([text_clean])"
   ]
  },
  {
   "cell_type": "code",
   "execution_count": 41,
   "id": "3510206b",
   "metadata": {
    "scrolled": true
   },
   "outputs": [
    {
     "name": "stdout",
     "output_type": "stream",
     "text": [
      "Predicted class = Real\n",
      "Probability of the article being real = 0.9454743163170134\n"
     ]
    }
   ],
   "source": [
    "labels = ['Real', 'Fake']\n",
    "y_predict = loaded_model.predict(X_unlabeled)\n",
    "probs = loaded_model.predict_proba(X_unlabeled)\n",
    "print(f'Predicted class = {labels[y_predict[0]]}')\n",
    "print(f'Probability of the article being real = {probs[0,y_predict[0]]}')"
   ]
  }
 ],
 "metadata": {
  "kernelspec": {
   "display_name": "Python 3 (ipykernel)",
   "language": "python",
   "name": "python3"
  },
  "language_info": {
   "codemirror_mode": {
    "name": "ipython",
    "version": 3
   },
   "file_extension": ".py",
   "mimetype": "text/x-python",
   "name": "python",
   "nbconvert_exporter": "python",
   "pygments_lexer": "ipython3",
   "version": "3.11.7"
  }
 },
 "nbformat": 4,
 "nbformat_minor": 5
}
